{
 "cells": [
  {
   "cell_type": "markdown",
   "id": "03f823e3-6d32-4ef6-8558-d34e6c20900d",
   "metadata": {},
   "source": [
    "## Multiple Chain 快速入门\n",
    "\n",
    "Runnables 可以轻松地用来串联多个 Chains，使用 RunnablePassthrough 将输出同时传给多条后继链。\n",
    "\n",
    "```\n",
    "     Input\n",
    "      / \\\n",
    "     /   \\\n",
    " Chain1 Chain2\n",
    "     \\   /\n",
    "      \\ /\n",
    "      Combine\n",
    "```\n",
    "\n",
    "本指南展示如何使用 Runnable 实现多个 AI 关于相同话题的辩论：\n",
    "\n",
    "```\n",
    "    输入话题\n",
    "       |\n",
    "       |\n",
    "    原始观点\n",
    "      / \\\n",
    "     /   \\\n",
    " 正面论述 反面论述\n",
    "     \\   /\n",
    "      \\ /\n",
    "     最终总结\n",
    "```"
   ]
  },
  {
   "cell_type": "code",
   "execution_count": 3,
   "id": "3a699e45-c4ea-460a-8dec-1ab973b5daf7",
   "metadata": {},
   "outputs": [],
   "source": [
    "# 导入相关模块，包括运算符、输出解析器、聊天模板、ChatOpenAI 和 运行器\n",
    "from operator import itemgetter\n",
    "from langchain_core.output_parsers import StrOutputParser\n",
    "from langchain_core.prompts import ChatPromptTemplate\n",
    "from langchain_openai import ChatOpenAI\n",
    "from langchain_core.runnables import RunnablePassthrough\n",
    "\n",
    "# 创建一个计划器，生成一个关于给定输入的论证\n",
    "planner = (\n",
    "    ChatPromptTemplate.from_template(\"生成关于以下内容的论点: {input}\")\n",
    "    | ChatOpenAI()\n",
    "    | StrOutputParser()\n",
    "    | {\"base_response\": RunnablePassthrough()}\n",
    ")\n",
    "\n",
    "# 创建正面论证的处理链，列出关于基础回应的正面或有利的方面\n",
    "arguments_for = (\n",
    "    ChatPromptTemplate.from_template(\n",
    "        \"列出关于{base_response}的正面或有利的方面\"\n",
    "    )\n",
    "    | ChatOpenAI()\n",
    "    | StrOutputParser()\n",
    ")\n",
    "\n",
    "# 创建反面论证的处理链，列出关于基础回应的反面或不利的方面\n",
    "arguments_against = (\n",
    "    ChatPromptTemplate.from_template(\n",
    "        \"列出关于{base_response}的反面或不利的方面\"\n",
    "    )\n",
    "    | ChatOpenAI()\n",
    "    | StrOutputParser()\n",
    ")\n",
    "\n",
    "# 创建最终响应者，综合原始回应和正反论点生成最终的回应\n",
    "final_responder = (\n",
    "    ChatPromptTemplate.from_messages(\n",
    "        [\n",
    "            (\"ai\", \"{original_response}\"),\n",
    "            (\"human\", \"正面观点:\\n{results_1}\\n\\n反面观点:\\n{results_2}\"),\n",
    "            (\"system\", \"给出批评后生成最终回应\"),\n",
    "        ]\n",
    "    )\n",
    "    | ChatOpenAI()\n",
    "    | StrOutputParser()\n",
    ")\n",
    "\n",
    "# 构建完整的处理链，从生成论点到列出正反论点，再到生成最终回应\n",
    "chain = (\n",
    "    planner\n",
    "    | {\n",
    "        \"results_1\": arguments_for,\n",
    "        \"results_2\": arguments_against,\n",
    "        \"original_response\": itemgetter(\"base_response\"),\n",
    "    }\n",
    "    | final_responder\n",
    ")"
   ]
  },
  {
   "cell_type": "code",
   "execution_count": 4,
   "id": "21340302-7a49-48af-a4a5-b516cb5596e0",
   "metadata": {},
   "outputs": [
    {
     "data": {
      "text/plain": [
       "'感谢您提供的正面观点！这些观点确实能够展示房地产市场低迷的一些积极影响和可能带来的机会。如果您有任何其他想法或问题，欢迎继续提出，我将尽力为您提供帮助。'"
      ]
     },
     "execution_count": 4,
     "metadata": {},
     "output_type": "execute_result"
    }
   ],
   "source": [
    "chain.invoke({\"input\": \"房地产低迷\"})"
   ]
  },
  {
   "cell_type": "markdown",
   "id": "6a9aabaf-2ce7-4ce2-ad44-f11b0dfe0f4b",
   "metadata": {},
   "source": [
    "#### 流式输出"
   ]
  },
  {
   "cell_type": "code",
   "execution_count": 5,
   "id": "58380571-fa69-426e-95a8-d17ebd61d147",
   "metadata": {},
   "outputs": [
    {
     "name": "stdout",
     "output_type": "stream",
     "text": [
      "总的来说，全球经济的发展既带来了许多积极影响，也存在一些挑战和问题。重要的是各国之间要加强合作，共同应对全球性挑战，推动全球经济向着更加稳定、可持续和包容的方向发展。只有这样，才能实现经济繁荣和人类福祉的共同目标。"
     ]
    }
   ],
   "source": [
    "## chain 最终输出经过了 StrOutputParser 处理，所以可以直接输出流式输出 s\n",
    "for s in chain.stream({\"input\": \"全球经济\"}):\n",
    "    print(s, end=\"\", flush=True)"
   ]
  },
  {
   "cell_type": "code",
   "execution_count": null,
   "id": "f5ace837-8c01-4661-832e-d0b7ec4e20c6",
   "metadata": {},
   "outputs": [],
   "source": []
  },
  {
   "cell_type": "markdown",
   "id": "157236cc-1acd-4c2a-ade8-509d252f9941",
   "metadata": {},
   "source": [
    "### Homework: 实现一个多链版本的代码生成，输入功能需求，输出2种（Python，Java）以上编程语言的代码实现。"
   ]
  },
  {
   "cell_type": "code",
   "execution_count": 6,
   "id": "8b540134-3e4c-409d-b801-f861bfa184c0",
   "metadata": {},
   "outputs": [],
   "source": [
    "# 导入相关模块，包括运算符、输出解析器、聊天模板、ChatOpenAI 和 运行器\n",
    "from operator import itemgetter\n",
    "from langchain_core.output_parsers import StrOutputParser\n",
    "from langchain_core.prompts import ChatPromptTemplate\n",
    "from langchain_openai import ChatOpenAI\n",
    "from langchain_core.runnables import RunnablePassthrough\n",
    "\n",
    "# 创建一个计划器，生成一个关于快速排序的代码。\n",
    "planner = (\n",
    "    ChatPromptTemplate.from_template(\"生成{input}的代码\")\n",
    "    | ChatOpenAI()\n",
    "    | StrOutputParser()\n",
    "    | {\"base_response\": RunnablePassthrough()}\n",
    ")\n",
    "\n",
    "# 创建java代码的处理链\n",
    "arguments_java = (\n",
    "    ChatPromptTemplate.from_template(\n",
    "        \"生成{base_response}的java代码\"\n",
    "    )\n",
    "    | ChatOpenAI()\n",
    "    | StrOutputParser()\n",
    ")\n",
    "\n",
    "# 创建python代码的处理链\n",
    "arguments_python = (\n",
    "    ChatPromptTemplate.from_template(\n",
    "        \"生成{base_response}的python代码\"\n",
    "    )\n",
    "    | ChatOpenAI()\n",
    "    | StrOutputParser()\n",
    ")\n",
    "\n",
    "# 构建完整的处理链，从生成论点到列出正反论点，再到生成最终回应\n",
    "chain = (\n",
    "    planner\n",
    "    | {\n",
    "        \"results_1\": arguments_java,\n",
    "        \"results_2\": arguments_python,\n",
    "    }\n"
   ]
  },
  {
   "cell_type": "code",
   "execution_count": 7,
   "id": "54aa324f-95cd-4693-bc84-ba4be4fdd689",
   "metadata": {},
   "outputs": [],
   "source": [
    "res = chain.invoke({\"input\": \"快速排序\"})"
   ]
  },
  {
   "cell_type": "code",
   "execution_count": 8,
   "id": "fdf80ff0-45ba-411b-bf79-6c98b7a9bb27",
   "metadata": {},
   "outputs": [
    {
     "data": {
      "text/plain": [
       "dict"
      ]
     },
     "execution_count": 8,
     "metadata": {},
     "output_type": "execute_result"
    }
   ],
   "source": [
    "type(res)"
   ]
  },
  {
   "cell_type": "code",
   "execution_count": 9,
   "id": "505889cd-11d9-4a3c-9aae-265adc5b363d",
   "metadata": {},
   "outputs": [
    {
     "data": {
      "text/plain": [
       "{'results_1': '```java\\npublic class QuickSort {\\n\\n    public static void quickSort(int[] arr, int low, int high) {\\n        if (low < high) {\\n            int pivot = partition(arr, low, high);\\n            quickSort(arr, low, pivot - 1);\\n            quickSort(arr, pivot + 1, high);\\n        }\\n    }\\n\\n    public static int partition(int[] arr, int low, int high) {\\n        int pivot = arr[high];\\n        int i = low - 1;\\n        for (int j = low; j < high; j++) {\\n            if (arr[j] < pivot) {\\n                i++;\\n                int temp = arr[i];\\n                arr[i] = arr[j];\\n                arr[j] = temp;\\n            }\\n        }\\n        int temp = arr[i+1];\\n        arr[i+1] = arr[high];\\n        arr[high] = temp;\\n        return i+1;\\n    }\\n\\n    public static void main(String[] args) {\\n        int[] arr = {3, 6, 8, 10, 1, 2, 1};\\n        quickSort(arr, 0, arr.length - 1);\\n        for (int num : arr) {\\n            System.out.print(num + \" \");\\n        }\\n    }\\n}\\n```\\n\\n在这个Java实现中，我们使用了经典的快速排序算法。首先选择一个基准值（这里选择数组中的最后一个元素），然后根据基准值将数组分成两部分。我们通过partition方法来实现这个过程，将小于基准值的元素移到基准值的左边，大于基准值的元素移到基准值的右边。然后递归地对两个子数组进行快速排序，直到待排序的数组长度为1。最终得到排序好的数组。',\n",
       " 'results_2': '```python\\ndef quick_sort(arr):\\n    if len(arr) <= 1:\\n        return arr\\n    else:\\n        pivot = arr[0]\\n        less = [x for x in arr[1:] if x <= pivot]\\n        greater = [x for x in arr[1:] if x > pivot]\\n        return quick_sort(less) + [pivot] + quick_sort(greater)\\n\\n# 示例用法\\narr = [3, 6, 8, 10, 1, 2, 1]\\nsorted_arr = quick_sort(arr)\\nprint(sorted_arr)\\n```'}"
      ]
     },
     "execution_count": 9,
     "metadata": {},
     "output_type": "execute_result"
    }
   ],
   "source": [
    "res"
   ]
  },
  {
   "cell_type": "code",
   "execution_count": 10,
   "id": "5e09b7f5-46e2-43d0-80db-ca4463bfce47",
   "metadata": {},
   "outputs": [
    {
     "name": "stdout",
     "output_type": "stream",
     "text": [
      "```java\n",
      "public class QuickSort {\n",
      "\n",
      "    public static void quickSort(int[] arr, int low, int high) {\n",
      "        if (low < high) {\n",
      "            int pivot = partition(arr, low, high);\n",
      "            quickSort(arr, low, pivot - 1);\n",
      "            quickSort(arr, pivot + 1, high);\n",
      "        }\n",
      "    }\n",
      "\n",
      "    public static int partition(int[] arr, int low, int high) {\n",
      "        int pivot = arr[high];\n",
      "        int i = low - 1;\n",
      "        for (int j = low; j < high; j++) {\n",
      "            if (arr[j] < pivot) {\n",
      "                i++;\n",
      "                int temp = arr[i];\n",
      "                arr[i] = arr[j];\n",
      "                arr[j] = temp;\n",
      "            }\n",
      "        }\n",
      "        int temp = arr[i+1];\n",
      "        arr[i+1] = arr[high];\n",
      "        arr[high] = temp;\n",
      "        return i+1;\n",
      "    }\n",
      "\n",
      "    public static void main(String[] args) {\n",
      "        int[] arr = {3, 6, 8, 10, 1, 2, 1};\n",
      "        quickSort(arr, 0, arr.length - 1);\n",
      "        for (int num : arr) {\n",
      "            System.out.print(num + \" \");\n",
      "        }\n",
      "    }\n",
      "}\n",
      "```\n",
      "\n",
      "在这个Java实现中，我们使用了经典的快速排序算法。首先选择一个基准值（这里选择数组中的最后一个元素），然后根据基准值将数组分成两部分。我们通过partition方法来实现这个过程，将小于基准值的元素移到基准值的左边，大于基准值的元素移到基准值的右边。然后递归地对两个子数组进行快速排序，直到待排序的数组长度为1。最终得到排序好的数组。\n"
     ]
    }
   ],
   "source": [
    "print(res[\"results_1\"])"
   ]
  },
  {
   "cell_type": "code",
   "execution_count": 11,
   "id": "663c1250-8f49-49ae-a004-796e9f0e0766",
   "metadata": {},
   "outputs": [
    {
     "name": "stdout",
     "output_type": "stream",
     "text": [
      "```python\n",
      "def quick_sort(arr):\n",
      "    if len(arr) <= 1:\n",
      "        return arr\n",
      "    else:\n",
      "        pivot = arr[0]\n",
      "        less = [x for x in arr[1:] if x <= pivot]\n",
      "        greater = [x for x in arr[1:] if x > pivot]\n",
      "        return quick_sort(less) + [pivot] + quick_sort(greater)\n",
      "\n",
      "# 示例用法\n",
      "arr = [3, 6, 8, 10, 1, 2, 1]\n",
      "sorted_arr = quick_sort(arr)\n",
      "print(sorted_arr)\n",
      "```\n"
     ]
    }
   ],
   "source": [
    "print(res[\"results_2\"])"
   ]
  },
  {
   "cell_type": "code",
   "execution_count": null,
   "id": "a5b7432e-b340-48cc-bff9-41a7ec9bde39",
   "metadata": {},
   "outputs": [],
   "source": []
  }
 ],
 "metadata": {
  "kernelspec": {
   "display_name": "Python 3 (ipykernel)",
   "language": "python",
   "name": "python3"
  },
  "language_info": {
   "codemirror_mode": {
    "name": "ipython",
    "version": 3
   },
   "file_extension": ".py",
   "mimetype": "text/x-python",
   "name": "python",
   "nbconvert_exporter": "python",
   "pygments_lexer": "ipython3",
   "version": "3.11.7"
  }
 },
 "nbformat": 4,
 "nbformat_minor": 5
}
